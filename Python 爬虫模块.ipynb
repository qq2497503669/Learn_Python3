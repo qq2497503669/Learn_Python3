{
 "cells": [
  {
   "cell_type": "markdown",
   "metadata": {},
   "source": [
    "# requests 模块"
   ]
  },
  {
   "cell_type": "code",
   "execution_count": 4,
   "metadata": {},
   "outputs": [
    {
     "name": "stdout",
     "output_type": "stream",
     "text": [
      "<RequestsCookieJar[<Cookie wordpress_logged_in_8ae19f1d3501912716786d02f018d2aa=kaikeba%7C1600433854%7CUkiUwA2h1w3ZSQcMAUKIjKMpkGqHoCQMiytLQG2FD5w%7C713ce85b71c327dbf47e138f046b5d5291eb17dc0c3b1e89b149f3c247eecbca for />, <Cookie wordpress_sec_8ae19f1d3501912716786d02f018d2aa=kaikeba%7C1600433854%7CUkiUwA2h1w3ZSQcMAUKIjKMpkGqHoCQMiytLQG2FD5w%7C7d45cddb487c73a3f6522d1cce85dc9a3eb427cc189d9eab53f6e4a519f82cf0 for />, <Cookie wordpress_test_cookie=WP+Cookie+check for />]>\n",
      "<class 'str'>\n",
      "<class 'bytes'>\n",
      "<class 'dict'>\n"
     ]
    }
   ],
   "source": [
    "# 安装模块 pip install requests -i http://pypi.douban.com/simple/\n",
    "# 导入模块\n",
    "import requests\n",
    "# 服务器请求\n",
    "# Session 请求保持Cookie连接\n",
    "# session=requests.Session()\n",
    "# session=requests.post(url=url,headers=headers,data=data)\n",
    "session=requests.Session()\n",
    "headers={\n",
    "        'user-agent': 'Mozilla/5.0 (Windows NT 10.0; WOW64) AppleWebKit/537.36 (KHTML, like Gecko) Chrome/78.0.3904.108 Safari/537.36'\n",
    "}\n",
    "data={\n",
    "    'log':'kaikeba',\n",
    "    'pwd':'kaikeba888',\n",
    "    'wp-submit':'登录',\n",
    "    'redirect_to': 'https://xiaoke.kaikeba.com/example/wordpress/2019/10/17/%e5%bc%80%e8%af%be%e5%90%a7%e6%97%a0%e6%95%8c%e5%a5%bd%e5%90%83%e7%9a%84%e9%a3%9f%e5%a0%82%e4%b8%80%e5%91%a8%e8%8f%9c%e8%b0%b1/',\n",
    "    'testcookie':'1'    \n",
    "}\n",
    "code=session.post('https://xiaoke.kaikeba.com/example/wordpress/wp-login.php',headers=headers,data=data)\n",
    "\n",
    "# Cookie 保存读取\n",
    "# 写入cookie文件\n",
    "import json\n",
    "with open('cookie.json','w') as cookie:\n",
    "    cookies_dic=requests.utils.dict_from_cookiejar(session.cookies) # cookie转字典\n",
    "    cookie.write(json.dumps(cookies_dic)) # 字典转JSON\n",
    "\n",
    "# 读取cookie文件 \n",
    "with open('cookie.json','r') as cookie:\n",
    "    cookies_dic=json.loads(cookie.read()) # JSON转字典\n",
    "    session.cookies=requests.utils.cookiejar_from_dict(cookies_dic) # 字典转cookie\n",
    "print(session.cookies)\n",
    "\n",
    "# POST 请求\n",
    "# req=requests.post(url=url,headers=headers,data=data,cookies=cookies)\n",
    "\n",
    "# GET 请求\n",
    "req=requests.get('https://www.baidu.com') #requests.get(url=url,headers=headers,params=params)\n",
    "\n",
    "print(type(req.text))     # 转文本\n",
    "print(type(req.content)) # 转二进制\n",
    "req=requests.get('https://www.baidu.com/sugrec?prod=pc_his&from=pc_web&json=1&sid=32606&hisdata=%5B%7B%22time%22%3A1599988725%2C%22kw%22%3A%22python%E6%98%AF%E4%B8%8D%E6%98%AF%E8%A2%AB%E7%A5%9E%E8%AF%9D%E4%BA%86%22%7D%2C%7B%22time%22%3A1599989504%2C%22kw%22%3A%22%E5%B0%B1%E4%BC%9A%E4%B8%80%E4%B8%AApython%E8%83%BD%E6%89%BE%E5%88%B0%E5%B7%A5%E4%BD%9C%E5%90%97%22%7D%2C%7B%22time%22%3A1599989552%2C%22kw%22%3A%22python%E7%A5%9E%E8%AF%9D%22%7D%2C%7B%22time%22%3A1599991166%2C%22kw%22%3A%22%E4%BB%80%E4%B9%88%E6%98%AF%E6%9C%AF%22%7D%2C%7B%22time%22%3A1599991276%2C%22kw%22%3A%22%E4%BB%80%E4%B9%88%E6%98%AF%E6%8A%80%E6%9C%AF%E7%9A%84%E6%9C%AF%22%2C%22fq%22%3A2%7D%2C%7B%22time%22%3A1599991339%2C%22kw%22%3A%22%E5%AD%A6%E6%9C%AF%22%7D%2C%7B%22time%22%3A1599991353%2C%22kw%22%3A%22%E6%8A%80%E6%9C%AF%E7%9A%84%E6%9C%AF%E6%98%AF%E4%BB%80%E4%B9%88%E6%84%8F%E6%80%9D%22%7D%2C%7B%22time%22%3A1600005516%2C%22kw%22%3A%22song%20%E6%AD%8C%E6%89%8B%22%7D%2C%7B%22time%22%3A1600010051%2C%22kw%22%3A%22lambda%20%E5%8A%A0if%22%7D%2C%7B%22time%22%3A1600081909%2C%22kw%22%3A%22%E5%8F%AF%E8%BF%94%E5%9B%9Ejson%E7%9A%84%E7%BD%91%E9%A1%B5%22%7D%5D&_t=1600081925043&req=2&bs=%E5%8F%AF%E8%BF%94%E5%9B%9EJson%E7%9A%84%E7%BD%91%E9%A1%B5&csor=0')\n",
    "print(type(req.json()))  # JSON转字典\n"
   ]
  },
  {
   "cell_type": "markdown",
   "metadata": {},
   "source": [
    "# BeautifulSoup 模块"
   ]
  },
  {
   "cell_type": "code",
   "execution_count": 5,
   "metadata": {},
   "outputs": [
    {
     "name": "stdout",
     "output_type": "stream",
     "text": [
      "lg\n",
      "lg\n",
      "lg\n",
      "lg\n",
      "lg\n"
     ]
    }
   ],
   "source": [
    "# 安装模块 pip install bs4 -i http://pypi.douban.com/simple/\n",
    "# 导入模块\n",
    "import requests\n",
    "from bs4 import BeautifulSoup\n",
    "# Get方式获取连接\n",
    "req=requests.get('https://www.baidu.com')\n",
    "html=req.text # 返回文本\n",
    "bs=BeautifulSoup(html,'html.parser')# 解析为BeautifulSoup对象\n",
    "#查找标签tag\n",
    "for tags in bs.find_all('div'): # 搜索整个网页返回标签列表\n",
    "    tag=tags.find('div',id='lg') # 搜索网页返回一个标签\n",
    "    if tag!=None:\n",
    "        print(tag['id']) # 返回标签属性值\n"
   ]
  },
  {
   "cell_type": "markdown",
   "metadata": {},
   "source": [
    "# schedule 模块"
   ]
  },
  {
   "cell_type": "code",
   "execution_count": 4,
   "metadata": {},
   "outputs": [],
   "source": [
    "# 安装模块 pip install schedule\n",
    "import schedule\n",
    "def job():\n",
    "    print(\"Working in progress...\")\n",
    "#定义一个叫job的函数，函数的功能是打印'I'm working...'\n",
    "#部署情况\n",
    "schedule.every(10).minutes.do(job)       #部署每10分钟执行一次job()函数的任务\n",
    "schedule.every().hour.do(job)            #部署每×小时执行一次job()函数的任务\n",
    "schedule.every().day.at(\"10:30\").do(job) #部署在每天的10:30执行job()函数的任务\n",
    "schedule.every().monday.do(job)          #部署每个星期一执行job()函数的任务\n",
    "schedule.every().wednesday.at(\"13:15\").do(job)#部署每周三的13：15执行函数的任务\n",
    "while True:\n",
    "    schedule.run_pending()\n",
    "    break"
   ]
  },
  {
   "cell_type": "markdown",
   "metadata": {},
   "source": [
    "# smtplib 和 email 模块"
   ]
  },
  {
   "cell_type": "code",
   "execution_count": 1,
   "metadata": {},
   "outputs": [
    {
     "name": "stdout",
     "output_type": "stream",
     "text": [
      "输入邮件正文：你好啊！！！\n",
      "输入邮件标题我来测试一下\n"
     ]
    },
    {
     "data": {
      "text/plain": [
       "(221, b'Bye.')"
      ]
     },
     "execution_count": 1,
     "metadata": {},
     "output_type": "execute_result"
    }
   ],
   "source": [
    "# 建立邮件对象\n",
    "from email.mime.text import MIMEText # 邮件正文\n",
    "from email.header import Header # 邮件头部\n",
    "message = MIMEText(input('输入邮件正文：'), 'plain', 'utf-8')\n",
    "message['Subject'] = Header(input('输入邮件标题'), 'utf-8')\n",
    "# 发送邮件\n",
    "import smtplib\n",
    "qqmail = smtplib.SMTP() # 建立一个邮件对象\n",
    "qqmail.connect('smtp.qq.com',25) # 连接服务器 服务器地址 端口号\n",
    "sender='2497503669@qq.com' # sender发件人邮箱\n",
    "password='skoxprxhtzhqebcb' # password发件人授权码\n",
    "qqmail.login(sender,password)  #登录邮箱\n",
    "receiver='2497503669@qq.com' # receiver 收件人邮箱\n",
    "qqmail.sendmail(sender, receiver, message.as_string()) # 发送邮件\n",
    "qqmail.quit() #退出邮件服务器"
   ]
  },
  {
   "cell_type": "markdown",
   "metadata": {},
   "source": [
    "# CSV 模块"
   ]
  },
  {
   "cell_type": "code",
   "execution_count": 16,
   "metadata": {},
   "outputs": [
    {
     "name": "stdout",
     "output_type": "stream",
     "text": [
      "['姓名', '年龄']\n",
      "['小明', '14']\n"
     ]
    }
   ],
   "source": [
    "# 导入模块\n",
    "import csv\n",
    "l1=['姓名','年龄']\n",
    "l2=['小明',14]\n",
    "\n",
    "# 写入csv\n",
    "with open('data.csv','w',newline='') as file:\n",
    "    csv_writer=csv.writer(file)\n",
    "    csv_writer.writerow(l1)\n",
    "    csv_writer.writerow(l2)\n",
    "    \n",
    "# 读取csv\n",
    "with open('data.csv','r') as file:\n",
    "    csv_reader=csv.reader(file)\n",
    "    for row in csv_reader:\n",
    "        print(row)\n",
    "    "
   ]
  },
  {
   "cell_type": "markdown",
   "metadata": {},
   "source": [
    "# openpyxl 模块"
   ]
  },
  {
   "cell_type": "code",
   "execution_count": 39,
   "metadata": {},
   "outputs": [
    {
     "name": "stdout",
     "output_type": "stream",
     "text": [
      "姓名\n",
      "('姓名', '年龄')\n",
      "('小明', 16)\n",
      "('小红', 16)\n",
      "(None, '=sum(B2+B3)')\n"
     ]
    }
   ],
   "source": [
    "# 导入模块\n",
    "import openpyxl\n",
    "# 写入Exle数据\n",
    "wb=openpyxl.Workbook() # 建立一个工作簿\n",
    "sheet=wb.active # 建立一个工作表\n",
    "sheet.title='工作表1' # 设置工作表名称\n",
    "\n",
    "sheet['A1']='姓名' # 以字典形式写入\n",
    "sheet['B1']='年龄'\n",
    "sheet.append(['小明',16]) # 以列表形式写入\n",
    "sheet.append(['小红',16])\n",
    "sheet.append(['','=sum(B2+B3)']) # 写入公式\n",
    "# 保存Excle\n",
    "wb.save('data.xlsx')\n",
    "# 关闭工作簿\n",
    "wb.close()\n",
    "\n",
    "# 读取Exle数据\n",
    "wb=openpyxl.load_workbook('data.xlsx') # 读取Excle文件\n",
    "sheet=wb['工作表1'] # 读取工作表\n",
    "print(sheet['A1'].value) # 以字典形式读取\n",
    "for i in sheet.values: # 以列表形式读取\n",
    "    print(i)"
   ]
  },
  {
   "cell_type": "markdown",
   "metadata": {},
   "source": [
    "# selenium 模块"
   ]
  },
  {
   "cell_type": "code",
   "execution_count": 2,
   "metadata": {},
   "outputs": [
    {
     "name": "stdout",
     "output_type": "stream",
     "text": [
      "submit\n",
      "Angelababy，杨幂，郑爽，古力娜扎，迪丽热巴，赵丽颖，李敏镐，刘涛，柳岩，赵薇，范冰冰，唐嫣，"
     ]
    }
   ],
   "source": [
    "# 安装模块\n",
    "# pip install selenium\n",
    "# 下载驱动\n",
    "# http://npm.taobao.org/mirrors/chromedriver/\n",
    "# 导入模块\n",
    "from selenium import webdriver\n",
    "import time\n",
    "# 创建驱动对象\n",
    "chrome = webdriver.Chrome()\n",
    "# 打开连接\n",
    "chrome.get('https://www.baidu.com')\n",
    "\n",
    "# 属性查找 \n",
    "input_text=chrome.find_element_by_id('kw') # 返回id属性 \n",
    "input_text.send_keys('明星') # 设置标签文本\n",
    "#input_text.clear() # 清除内容\n",
    "# 标签查找\n",
    "input_submit=chrome.find_element_by_id('su') # 返回input标签\n",
    "print(input_submit.get_attribute('type')) # 打印属性内容\n",
    "input_submit.click() #模拟点击 \n",
    "\n",
    "# 获取跳转页面\n",
    "handles=chrome.window_handles # 获取所有页面句柄\n",
    "chrome.switch_to.window(handles[0]) # 切换页面\n",
    "#print(chrome.page_source) # 显示网页代码\n",
    "time.sleep(3)\n",
    "\n",
    "# 标签列表 element 返回一个标签 elements 返回标签列表\n",
    "titles=chrome.find_elements_by_class_name('inc_rs_a') #取空格最后作为唯一标识 c-font-medium:字体 inc_rs_a:值\n",
    "for title in titles:\n",
    "    print(title.text,end='，') # 标签内容\n",
    "# 关闭连接\n",
    "chrome.close()"
   ]
  },
  {
   "cell_type": "markdown",
   "metadata": {},
   "source": [
    "# gevent 模块"
   ]
  },
  {
   "cell_type": "code",
   "execution_count": 4,
   "metadata": {},
   "outputs": [
    {
     "name": "stdout",
     "output_type": "stream",
     "text": [
      "任务 0,任务 1,任务 2,任务 3,任务 4,任务 5,任务 6,任务 7,任务 8,任务 9,任务 10,\n",
      "\n",
      "任务 0,任务 1,任务 2,任务 3,任务 4,任务 5,任务 6,任务 7,任务 8,任务 9,任务 10,"
     ]
    }
   ],
   "source": [
    "# 导入模块\n",
    "import gevent,time\n",
    "# 协程队列\n",
    "from gevent.queue import Queue\n",
    "# 非阻塞执行\n",
    "from gevent import monkey\n",
    "monkey.patch_all() # 该语句之上所有模块非阻塞\n",
    "\n",
    "def run(n):\n",
    "    print('任务 %d'%(n),end=',')\n",
    "    time.sleep(10) # 阻塞等待10s\n",
    "    \n",
    "# 常规方式\n",
    "task_list=[] # 任务列表\n",
    "for i in range(11): # 每个数据建立一个协程\n",
    "    task_list.append(gevent.spawn(run,i)) # 添加协程对象\n",
    "a=gevent.joinall(task_list)\n",
    "print('\\n')\n",
    "\n",
    "# 协程队列方式\n",
    "work = Queue()\n",
    "def queueTask():\n",
    "    while not work.empty():# 列表为空返回True\n",
    "        i = work.get_nowait() # 获取队列数据并且清除 next()\n",
    "        run(i) # 执行函数\n",
    "        time.sleep(2)\n",
    "        \n",
    "for i in range(11):\n",
    "    work.put_nowait(i) # 添加队列元素\n",
    "    \n",
    "task_list=[]\n",
    "for t in range(2): # 两个协程执行全部数据\n",
    "    task_list.append(gevent.spawn(queueTask)) # 添加协程对象\n",
    "a=gevent.joinall(task_list)"
   ]
  },
  {
   "cell_type": "code",
   "execution_count": 11,
   "metadata": {},
   "outputs": [
    {
     "name": "stdout",
     "output_type": "stream",
     "text": [
      "第【1】任务,增加信号量!\n",
      "第【2】任务,增加信号量!\n",
      "第【3】任务,增加信号量!\n",
      "第【4】任务,增加信号量!\n",
      "第【5】任务,增加信号量!\n",
      "第【3】任务!,解锁!\n",
      "第【5】任务!,解锁!\n",
      "第【2】任务!,解锁!\n",
      "第【1】任务!,解锁!\n",
      "第【4】任务!,解锁!\n"
     ]
    }
   ],
   "source": [
    "import gevent,random\n",
    "# 协程队列\n",
    "# 非阻塞执行\n",
    "from gevent import monkey\n",
    "monkey.patch_all() # 该语句之上所有模块非阻塞\n",
    "from gevent.queue import Queue\n",
    "# 信号量 并发锁 让进程执行一半并且等待\n",
    "from gevent.lock import BoundedSemaphore # 信号量设定 lock.acquire() # 并发信号数量-1信号数量为0前锁住 lock.release() # 释放执行下面的代码\n",
    "lock = BoundedSemaphore(1) # 解锁之后并发数量\n",
    "def run(n):\n",
    "    print(f'第【{n}】任务,增加信号量!')\n",
    "    gevent.sleep(random.randint(1,10))\n",
    "    lock.acquire() # 信号量-1\n",
    "    print(f'第【{n}】任务!,解锁!')\n",
    "    lock.release() # 信号量+1\n",
    "    \n",
    "works=Queue() # 建立队列\n",
    "for i in range(1,6):\n",
    "    works.put_nowait(i)\n",
    "def queueTask():\n",
    "    while not works.empty():\n",
    "        n=works.get_nowait()\n",
    "        run(n)\n",
    "        \n",
    "task_list=[] # 建立协程数\n",
    "for t in range(5):\n",
    "    task_list.append(gevent.spawn(queueTask))\n",
    "    \n",
    "info=gevent.joinall(task_list)# 开启协程\n",
    "    "
   ]
  },
  {
   "cell_type": "code",
   "execution_count": null,
   "metadata": {},
   "outputs": [],
   "source": []
  },
  {
   "cell_type": "code",
   "execution_count": null,
   "metadata": {},
   "outputs": [],
   "source": []
  }
 ],
 "metadata": {
  "kernelspec": {
   "display_name": "Python 3",
   "language": "python",
   "name": "python3"
  },
  "language_info": {
   "codemirror_mode": {
    "name": "ipython",
    "version": 3
   },
   "file_extension": ".py",
   "mimetype": "text/x-python",
   "name": "python",
   "nbconvert_exporter": "python",
   "pygments_lexer": "ipython3",
   "version": "3.8.3"
  }
 },
 "nbformat": 4,
 "nbformat_minor": 4
}
