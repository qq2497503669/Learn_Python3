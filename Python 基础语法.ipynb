{
 "cells": [
  {
   "cell_type": "markdown",
   "metadata": {},
   "source": [
    "# Python 基础语法"
   ]
  },
  {
   "cell_type": "markdown",
   "metadata": {},
   "source": [
    "## 1.打印输出"
   ]
  },
  {
   "cell_type": "code",
   "execution_count": 12,
   "metadata": {},
   "outputs": [
    {
     "name": "stdout",
     "output_type": "stream",
     "text": [
      "Hello Python\n"
     ]
    }
   ],
   "source": [
    "print('Hello Python')"
   ]
  },
  {
   "cell_type": "markdown",
   "metadata": {},
   "source": [
    "### 格式化字符串"
   ]
  },
  {
   "cell_type": "code",
   "execution_count": 27,
   "metadata": {},
   "outputs": [
    {
     "name": "stdout",
     "output_type": "stream",
     "text": [
      "一 1 1.0\n",
      "一 1 1.0\n",
      "一 1 1.0\n",
      "b'/x0b'\n",
      "中文\n",
      "12\n",
      "['1', '2']\n",
      "Helo Python\n"
     ]
    }
   ],
   "source": [
    "str1='一'\n",
    "int1=1\n",
    "float1=1.0\n",
    "print('%s %d %.1f'%(str1,int1,float1))\n",
    "print('{} {} {}'.format(str1,int1,float1))\n",
    "print(f'{str1} {int1} {float1}')\n",
    "print(b'/x0b')\n",
    "print(u'中文')\n",
    "print(''.join(['1','2']))\n",
    "print('1,2'.split(','))\n",
    "print('Helo Word'.replace('Word','Python'))"
   ]
  },
  {
   "cell_type": "markdown",
   "metadata": {},
   "source": [
    "## 2.数据类型"
   ]
  },
  {
   "cell_type": "code",
   "execution_count": 5,
   "metadata": {},
   "outputs": [
    {
     "name": "stdout",
     "output_type": "stream",
     "text": [
      "<class 'str'>\n",
      "<class 'int'>\n",
      "<class 'float'>\n",
      "<class 'bool'>\n",
      "<class 'list'>\n",
      "<class 'dict'>\n",
      "<class 'tuple'>\n",
      "<class 'set'>\n"
     ]
    }
   ],
   "source": [
    "# 字符串\n",
    "print(type('Python'))\n",
    "# 整型\n",
    "print(type(1))\n",
    "# 浮点数\n",
    "print(type(1.1))\n",
    "# 布尔值\n",
    "print(type(True))\n",
    "# 列表\n",
    "print(type([1,2,3]))\n",
    "# 字典\n",
    "print(type({'1':1}))\n",
    "# 元组\n",
    "print(type((1,2,3)))\n",
    "# 集合\n",
    "print(type({1,2,3}))"
   ]
  },
  {
   "cell_type": "markdown",
   "metadata": {},
   "source": [
    "## 3.列表和字典的操作"
   ]
  },
  {
   "cell_type": "markdown",
   "metadata": {},
   "source": [
    "||创建|读取|删除|添加元素|合并|切片|\n",
    "|:----|:----|:----|:----|:----|:----|:----|\n",
    "|列表|var=[]|get(index,0)|pop(-1) del(list[index]) clear()|append(var)|extend(list) list+list|list[start,end,space]|\n",
    "|字典|var={}|get(key,0)|pop(key) del(dict[key]) clear()|dict[key]=var|update(dict) dict+dict dict(dict,\\*\\*dict)|\n",
    "列表推导式[i for i in range(1,10)] 字典推导式{k,v for k,v in enumerate(range(1,10))}"
   ]
  },
  {
   "cell_type": "markdown",
   "metadata": {},
   "source": [
    "## 4.判断和逻辑循环体"
   ]
  },
  {
   "cell_type": "code",
   "execution_count": 7,
   "metadata": {},
   "outputs": [
    {
     "name": "stdout",
     "output_type": "stream",
     "text": [
      "13579\n",
      "10987654321"
     ]
    }
   ],
   "source": [
    "for n in range(11):\n",
    "    if n%2==0:\n",
    "        continue\n",
    "    else:\n",
    "        print(n,end='')\n",
    "print()\n",
    "n=10\n",
    "while True:\n",
    "    if n<=0:\n",
    "        break\n",
    "    else:\n",
    "        print(n,end='')\n",
    "        n-=1"
   ]
  },
  {
   "cell_type": "markdown",
   "metadata": {},
   "source": [
    "## 5.函数体"
   ]
  },
  {
   "cell_type": "code",
   "execution_count": 26,
   "metadata": {},
   "outputs": [
    {
     "name": "stdout",
     "output_type": "stream",
     "text": [
      "(('函数返回值',), {})\n"
     ]
    },
    {
     "data": {
      "text/plain": [
       "'不是双数'"
      ]
     },
     "execution_count": 26,
     "metadata": {},
     "output_type": "execute_result"
    }
   ],
   "source": [
    "def fun(*args,**kwages): # 形参\n",
    "    global var # 声明全局变量\n",
    "    var=1\n",
    "    return args,kwages # 函数返回值 \n",
    "print(fun('函数返回值'))\n",
    "la=lambda x:x if x%2==0 else '不是双数'\n",
    "la(5)"
   ]
  },
  {
   "cell_type": "markdown",
   "metadata": {},
   "source": [
    "### 递归函数"
   ]
  },
  {
   "cell_type": "code",
   "execution_count": 1,
   "metadata": {},
   "outputs": [
    {
     "data": {
      "text/plain": [
       "5050"
      ]
     },
     "execution_count": 1,
     "metadata": {},
     "output_type": "execute_result"
    }
   ],
   "source": [
    "def summer(n):\n",
    "    if n==0:\n",
    "        return 0\n",
    "    return n+summer(n-1)\n",
    "summer(100)"
   ]
  },
  {
   "cell_type": "markdown",
   "metadata": {},
   "source": [
    "### 嵌套函数和装饰器"
   ]
  },
  {
   "cell_type": "code",
   "execution_count": 1,
   "metadata": {
    "scrolled": true
   },
   "outputs": [
    {
     "name": "stdout",
     "output_type": "stream",
     "text": [
      "装饰器：装饰器：13\n",
      "装饰器：7\n"
     ]
    }
   ],
   "source": [
    "def flawer(var):\n",
    "    def fun(fun):\n",
    "        def arg(*arg,**kwargs):\n",
    "            return '装饰器：'+str(fun(*arg,**kwargs))\n",
    "        return arg\n",
    "    return fun\n",
    "\n",
    "@flawer('装饰器传参')\n",
    "def run(a,b):\n",
    "    return a+b\n",
    "print(flawer('装饰器传参')(run)(6,7))\n",
    "print(run(3,4))"
   ]
  },
  {
   "cell_type": "markdown",
   "metadata": {},
   "source": [
    "# 6.文件处理"
   ]
  },
  {
   "cell_type": "code",
   "execution_count": 17,
   "metadata": {},
   "outputs": [
    {
     "name": "stdout",
     "output_type": "stream",
     "text": [
      "Hello Python\n",
      "Hello Python\n"
     ]
    }
   ],
   "source": [
    "# 文件处理\n",
    "fp=open('D:/文章.txt','w',encoding='utf-8')\n",
    "fp.write('Hello Python')\n",
    "fp=open('D:/文章.txt','r',encoding='utf-8')\n",
    "print(fp.read())\n",
    "fp.close()\n",
    "# with语句\n",
    "with open('D:/文章.txt','r',encoding='utf-8') as file:\n",
    "    print(file.read())"
   ]
  },
  {
   "cell_type": "markdown",
   "metadata": {},
   "source": [
    "# 7.错误处理"
   ]
  },
  {
   "cell_type": "code",
   "execution_count": 7,
   "metadata": {},
   "outputs": [
    {
     "name": "stdout",
     "output_type": "stream",
     "text": [
      "出现错误：name 'l1' is not defined\n"
     ]
    },
    {
     "ename": "NameError",
     "evalue": "name 'l1' is not defined",
     "output_type": "error",
     "traceback": [
      "\u001b[1;31m---------------------------------------------------------------------------\u001b[0m",
      "\u001b[1;31mNameError\u001b[0m                                 Traceback (most recent call last)",
      "\u001b[1;32m<ipython-input-7-b27b327184c4>\u001b[0m in \u001b[0;36m<module>\u001b[1;34m\u001b[0m\n\u001b[0;32m      3\u001b[0m \u001b[1;32mexcept\u001b[0m \u001b[0mException\u001b[0m \u001b[1;32mas\u001b[0m \u001b[0merror\u001b[0m\u001b[1;33m:\u001b[0m\u001b[1;33m\u001b[0m\u001b[1;33m\u001b[0m\u001b[0m\n\u001b[0;32m      4\u001b[0m     \u001b[0mprint\u001b[0m\u001b[1;33m(\u001b[0m\u001b[1;34m'出现错误：'\u001b[0m\u001b[1;33m+\u001b[0m\u001b[0mstr\u001b[0m\u001b[1;33m(\u001b[0m\u001b[0merror\u001b[0m\u001b[1;33m)\u001b[0m\u001b[1;33m)\u001b[0m\u001b[1;33m\u001b[0m\u001b[1;33m\u001b[0m\u001b[0m\n\u001b[1;32m----> 5\u001b[1;33m \u001b[0ml1\u001b[0m\u001b[1;33m[\u001b[0m\u001b[1;36m0\u001b[0m\u001b[1;33m]\u001b[0m\u001b[1;33m=\u001b[0m\u001b[1;36m1\u001b[0m\u001b[1;33m\u001b[0m\u001b[1;33m\u001b[0m\u001b[0m\n\u001b[0m",
      "\u001b[1;31mNameError\u001b[0m: name 'l1' is not defined"
     ]
    }
   ],
   "source": [
    "try:\n",
    "    l1[0]=1\n",
    "except Exception as error:\n",
    "    print('出现错误：'+str(error))\n",
    "l1[0]=1"
   ]
  },
  {
   "cell_type": "markdown",
   "metadata": {},
   "source": [
    "# 8.类（面向对象）"
   ]
  },
  {
   "cell_type": "code",
   "execution_count": 11,
   "metadata": {},
   "outputs": [
    {
     "name": "stdout",
     "output_type": "stream",
     "text": [
      "姓名：小明\n"
     ]
    }
   ],
   "source": [
    "class Student:\n",
    "    def __init__(self,name):#初始化类方法\n",
    "        self.name=name\n",
    "        print('姓名：'+name)\n",
    "st1=Student('小明')"
   ]
  },
  {
   "cell_type": "markdown",
   "metadata": {},
   "source": [
    "## 重写类方法"
   ]
  },
  {
   "cell_type": "code",
   "execution_count": 18,
   "metadata": {},
   "outputs": [
    {
     "name": "stdout",
     "output_type": "stream",
     "text": [
      "print(打印信息)\n",
      "def 函数调用\n",
      "eval(代码)\n",
      "12345678910Hello Python\n",
      "(None, None, None)\n"
     ]
    }
   ],
   "source": [
    "class test:\n",
    "    # 常用操作\n",
    "    def __init__(self): # 初始化函数\n",
    "        self.l1=list(range(1,11))\n",
    "        self.fp=open('D:/文章.txt','r',encoding='utf-8')\n",
    "    def __str__(self): # 打印类函数\n",
    "        return 'print(打印信息)'\n",
    "    def __repr__(self): # 创建实列eval(repr())\n",
    "        return 'eval(代码)'\n",
    "    def __call__(self): # 直接调用类函数Class()\n",
    "        return 'def 函数调用' \n",
    "    \n",
    "    # 迭代器\n",
    "    def __iter__(self): # 可迭代对象 __next__\n",
    "        return iter(self.l1)\n",
    "    \n",
    "    # 文件操作\n",
    "    def __enter__(self): # 可操作文件\n",
    "        return self.fp\n",
    "    def __exit__(self,*exc_info):\n",
    "        print(exc_info)\n",
    "        self.fp.close()\n",
    "c1=test()\n",
    "print(c1)\n",
    "print(c1())\n",
    "print(repr(c1))\n",
    "for i in c1:\n",
    "    print(i,end='')\n",
    "with c1 as txt:\n",
    "    print(txt.read())\n",
    "    "
   ]
  },
  {
   "cell_type": "markdown",
   "metadata": {},
   "source": [
    "## 类的继承"
   ]
  },
  {
   "cell_type": "code",
   "execution_count": 11,
   "metadata": {},
   "outputs": [
    {
     "name": "stdout",
     "output_type": "stream",
     "text": [
      "我是父类\n",
      "我是子类\n",
      "父类方法\n",
      "子类方法\n"
     ]
    }
   ],
   "source": [
    "class Super:\n",
    "    print('我是父类')\n",
    "    def info(self):\n",
    "        return '父类方法'\n",
    "    \n",
    "class Sub(Super): # 多层继承 super2(super1) sub(super2) 近代优先  # 多重继承(super1,super2)左边优先\n",
    "    print('我是子类')\n",
    "    def info(self):\n",
    "        print(super().info())\n",
    "        print('子类方法')\n",
    "c1=Sub()\n",
    "c1.info()"
   ]
  },
  {
   "cell_type": "code",
   "execution_count": null,
   "metadata": {},
   "outputs": [],
   "source": []
  }
 ],
 "metadata": {
  "kernelspec": {
   "display_name": "Python 3",
   "language": "python",
   "name": "python3"
  },
  "language_info": {
   "codemirror_mode": {
    "name": "ipython",
    "version": 3
   },
   "file_extension": ".py",
   "mimetype": "text/x-python",
   "name": "python",
   "nbconvert_exporter": "python",
   "pygments_lexer": "ipython3",
   "version": "3.8.3"
  }
 },
 "nbformat": 4,
 "nbformat_minor": 4
}
